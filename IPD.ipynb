{
  "nbformat": 4,
  "nbformat_minor": 0,
  "metadata": {
    "colab": {
      "provenance": [],
      "authorship_tag": "ABX9TyO+gRrLU7KJjJd27tfSRxr7",
      "include_colab_link": true
    },
    "kernelspec": {
      "name": "python3",
      "display_name": "Python 3"
    },
    "language_info": {
      "name": "python"
    }
  },
  "cells": [
    {
      "cell_type": "markdown",
      "metadata": {
        "id": "view-in-github",
        "colab_type": "text"
      },
      "source": [
        "<a href=\"https://colab.research.google.com/github/khushimehta24/ipd-project/blob/ML-model/IPD.ipynb\" target=\"_parent\"><img src=\"https://colab.research.google.com/assets/colab-badge.svg\" alt=\"Open In Colab\"/></a>"
      ]
    },
    {
      "cell_type": "code",
      "source": [
        "from google.colab import drive\n",
        "drive.mount('/content/gdrive')"
      ],
      "metadata": {
        "colab": {
          "base_uri": "https://localhost:8080/"
        },
        "id": "JGpWUAgHuFpk",
        "outputId": "682e9694-c5e6-4bd3-ee7b-c4e73a528601"
      },
      "execution_count": 1,
      "outputs": [
        {
          "output_type": "stream",
          "name": "stdout",
          "text": [
            "Mounted at /content/gdrive\n"
          ]
        }
      ]
    },
    {
      "cell_type": "code",
      "execution_count": 2,
      "metadata": {
        "id": "DMESkTJtttdN"
      },
      "outputs": [],
      "source": [
        "from sklearn.svm import SVC\n",
        "from sklearn.model_selection import train_test_split\n",
        "import numpy as np\n",
        "import pandas as pd\n",
        "from sklearn.model_selection import GridSearchCV\n",
        "from sklearn.ensemble import RandomForestClassifier\n",
        "import seaborn as sns\n",
        "import matplotlib.pyplot as plt\n",
        "from sklearn.preprocessing import StandardScaler\n",
        "import pickle\n",
        "from sklearn.metrics import classification_report\n",
        "%matplotlib inline"
      ]
    },
    {
      "cell_type": "code",
      "source": [
        "#In the DyslexiaML notebook, we found that RandomForest with GridSearch is best fit for the given dataset.\n",
        "#This model gives the most accurate predictions.\n",
        "#In this notebook, we will create only a RandomForest model, which will then be used to make final predictions."
      ],
      "metadata": {
        "id": "UPdMdkrrt0ez"
      },
      "execution_count": 3,
      "outputs": []
    },
    {
      "cell_type": "code",
      "source": [
        "#Reading the dataset\n",
        "data=pd.read_csv('/content/gdrive/MyDrive/labeled_dysx.csv')\n",
        "#Value to be predicted by the model.\n",
        "y=data.Label \n",
        "#Input taken by the model.\n",
        "X=data.drop(['Label'],axis=1) \n",
        "data"
      ],
      "metadata": {
        "colab": {
          "base_uri": "https://localhost:8080/",
          "height": 424
        },
        "id": "RpA92M_xt18C",
        "outputId": "fbf6eb8a-d210-46fc-b731-286302935d7f"
      },
      "execution_count": 4,
      "outputs": [
        {
          "output_type": "execute_result",
          "data": {
            "text/plain": [
              "     Language_vocab  Memory  Speed  Visual_discrimination  \\\n",
              "0               0.5     0.6    0.5                    0.8   \n",
              "1               0.6     0.7    0.8                    0.9   \n",
              "2               0.6     0.4    0.3                    0.3   \n",
              "3               0.3     0.5    0.2                    0.1   \n",
              "4               0.7     0.6    0.7                    0.8   \n",
              "..              ...     ...    ...                    ...   \n",
              "495             0.4     0.3    0.1                    0.4   \n",
              "496             0.4     0.6    0.5                    0.6   \n",
              "497             0.7     0.5    0.8                    0.9   \n",
              "498             0.3     0.5    0.4                    0.6   \n",
              "499             0.7     0.7    0.8                    0.6   \n",
              "\n",
              "     Audio_Discrimination  Survey_Score  Label  \n",
              "0                     0.6           0.7      1  \n",
              "1                     0.5           0.8      2  \n",
              "2                     0.4           0.6      1  \n",
              "3                     0.3           0.5      0  \n",
              "4                     0.9           0.5      2  \n",
              "..                    ...           ...    ...  \n",
              "495                   0.2           0.5      0  \n",
              "496                   0.5           0.4      1  \n",
              "497                   0.8           0.5      1  \n",
              "498                   0.6           0.6      1  \n",
              "499                   0.8           0.6      2  \n",
              "\n",
              "[500 rows x 7 columns]"
            ],
            "text/html": [
              "\n",
              "  <div id=\"df-4a77848b-7df4-45e4-b382-279d4f94ce5a\">\n",
              "    <div class=\"colab-df-container\">\n",
              "      <div>\n",
              "<style scoped>\n",
              "    .dataframe tbody tr th:only-of-type {\n",
              "        vertical-align: middle;\n",
              "    }\n",
              "\n",
              "    .dataframe tbody tr th {\n",
              "        vertical-align: top;\n",
              "    }\n",
              "\n",
              "    .dataframe thead th {\n",
              "        text-align: right;\n",
              "    }\n",
              "</style>\n",
              "<table border=\"1\" class=\"dataframe\">\n",
              "  <thead>\n",
              "    <tr style=\"text-align: right;\">\n",
              "      <th></th>\n",
              "      <th>Language_vocab</th>\n",
              "      <th>Memory</th>\n",
              "      <th>Speed</th>\n",
              "      <th>Visual_discrimination</th>\n",
              "      <th>Audio_Discrimination</th>\n",
              "      <th>Survey_Score</th>\n",
              "      <th>Label</th>\n",
              "    </tr>\n",
              "  </thead>\n",
              "  <tbody>\n",
              "    <tr>\n",
              "      <th>0</th>\n",
              "      <td>0.5</td>\n",
              "      <td>0.6</td>\n",
              "      <td>0.5</td>\n",
              "      <td>0.8</td>\n",
              "      <td>0.6</td>\n",
              "      <td>0.7</td>\n",
              "      <td>1</td>\n",
              "    </tr>\n",
              "    <tr>\n",
              "      <th>1</th>\n",
              "      <td>0.6</td>\n",
              "      <td>0.7</td>\n",
              "      <td>0.8</td>\n",
              "      <td>0.9</td>\n",
              "      <td>0.5</td>\n",
              "      <td>0.8</td>\n",
              "      <td>2</td>\n",
              "    </tr>\n",
              "    <tr>\n",
              "      <th>2</th>\n",
              "      <td>0.6</td>\n",
              "      <td>0.4</td>\n",
              "      <td>0.3</td>\n",
              "      <td>0.3</td>\n",
              "      <td>0.4</td>\n",
              "      <td>0.6</td>\n",
              "      <td>1</td>\n",
              "    </tr>\n",
              "    <tr>\n",
              "      <th>3</th>\n",
              "      <td>0.3</td>\n",
              "      <td>0.5</td>\n",
              "      <td>0.2</td>\n",
              "      <td>0.1</td>\n",
              "      <td>0.3</td>\n",
              "      <td>0.5</td>\n",
              "      <td>0</td>\n",
              "    </tr>\n",
              "    <tr>\n",
              "      <th>4</th>\n",
              "      <td>0.7</td>\n",
              "      <td>0.6</td>\n",
              "      <td>0.7</td>\n",
              "      <td>0.8</td>\n",
              "      <td>0.9</td>\n",
              "      <td>0.5</td>\n",
              "      <td>2</td>\n",
              "    </tr>\n",
              "    <tr>\n",
              "      <th>...</th>\n",
              "      <td>...</td>\n",
              "      <td>...</td>\n",
              "      <td>...</td>\n",
              "      <td>...</td>\n",
              "      <td>...</td>\n",
              "      <td>...</td>\n",
              "      <td>...</td>\n",
              "    </tr>\n",
              "    <tr>\n",
              "      <th>495</th>\n",
              "      <td>0.4</td>\n",
              "      <td>0.3</td>\n",
              "      <td>0.1</td>\n",
              "      <td>0.4</td>\n",
              "      <td>0.2</td>\n",
              "      <td>0.5</td>\n",
              "      <td>0</td>\n",
              "    </tr>\n",
              "    <tr>\n",
              "      <th>496</th>\n",
              "      <td>0.4</td>\n",
              "      <td>0.6</td>\n",
              "      <td>0.5</td>\n",
              "      <td>0.6</td>\n",
              "      <td>0.5</td>\n",
              "      <td>0.4</td>\n",
              "      <td>1</td>\n",
              "    </tr>\n",
              "    <tr>\n",
              "      <th>497</th>\n",
              "      <td>0.7</td>\n",
              "      <td>0.5</td>\n",
              "      <td>0.8</td>\n",
              "      <td>0.9</td>\n",
              "      <td>0.8</td>\n",
              "      <td>0.5</td>\n",
              "      <td>1</td>\n",
              "    </tr>\n",
              "    <tr>\n",
              "      <th>498</th>\n",
              "      <td>0.3</td>\n",
              "      <td>0.5</td>\n",
              "      <td>0.4</td>\n",
              "      <td>0.6</td>\n",
              "      <td>0.6</td>\n",
              "      <td>0.6</td>\n",
              "      <td>1</td>\n",
              "    </tr>\n",
              "    <tr>\n",
              "      <th>499</th>\n",
              "      <td>0.7</td>\n",
              "      <td>0.7</td>\n",
              "      <td>0.8</td>\n",
              "      <td>0.6</td>\n",
              "      <td>0.8</td>\n",
              "      <td>0.6</td>\n",
              "      <td>2</td>\n",
              "    </tr>\n",
              "  </tbody>\n",
              "</table>\n",
              "<p>500 rows × 7 columns</p>\n",
              "</div>\n",
              "      <button class=\"colab-df-convert\" onclick=\"convertToInteractive('df-4a77848b-7df4-45e4-b382-279d4f94ce5a')\"\n",
              "              title=\"Convert this dataframe to an interactive table.\"\n",
              "              style=\"display:none;\">\n",
              "        \n",
              "  <svg xmlns=\"http://www.w3.org/2000/svg\" height=\"24px\"viewBox=\"0 0 24 24\"\n",
              "       width=\"24px\">\n",
              "    <path d=\"M0 0h24v24H0V0z\" fill=\"none\"/>\n",
              "    <path d=\"M18.56 5.44l.94 2.06.94-2.06 2.06-.94-2.06-.94-.94-2.06-.94 2.06-2.06.94zm-11 1L8.5 8.5l.94-2.06 2.06-.94-2.06-.94L8.5 2.5l-.94 2.06-2.06.94zm10 10l.94 2.06.94-2.06 2.06-.94-2.06-.94-.94-2.06-.94 2.06-2.06.94z\"/><path d=\"M17.41 7.96l-1.37-1.37c-.4-.4-.92-.59-1.43-.59-.52 0-1.04.2-1.43.59L10.3 9.45l-7.72 7.72c-.78.78-.78 2.05 0 2.83L4 21.41c.39.39.9.59 1.41.59.51 0 1.02-.2 1.41-.59l7.78-7.78 2.81-2.81c.8-.78.8-2.07 0-2.86zM5.41 20L4 18.59l7.72-7.72 1.47 1.35L5.41 20z\"/>\n",
              "  </svg>\n",
              "      </button>\n",
              "      \n",
              "  <style>\n",
              "    .colab-df-container {\n",
              "      display:flex;\n",
              "      flex-wrap:wrap;\n",
              "      gap: 12px;\n",
              "    }\n",
              "\n",
              "    .colab-df-convert {\n",
              "      background-color: #E8F0FE;\n",
              "      border: none;\n",
              "      border-radius: 50%;\n",
              "      cursor: pointer;\n",
              "      display: none;\n",
              "      fill: #1967D2;\n",
              "      height: 32px;\n",
              "      padding: 0 0 0 0;\n",
              "      width: 32px;\n",
              "    }\n",
              "\n",
              "    .colab-df-convert:hover {\n",
              "      background-color: #E2EBFA;\n",
              "      box-shadow: 0px 1px 2px rgba(60, 64, 67, 0.3), 0px 1px 3px 1px rgba(60, 64, 67, 0.15);\n",
              "      fill: #174EA6;\n",
              "    }\n",
              "\n",
              "    [theme=dark] .colab-df-convert {\n",
              "      background-color: #3B4455;\n",
              "      fill: #D2E3FC;\n",
              "    }\n",
              "\n",
              "    [theme=dark] .colab-df-convert:hover {\n",
              "      background-color: #434B5C;\n",
              "      box-shadow: 0px 1px 3px 1px rgba(0, 0, 0, 0.15);\n",
              "      filter: drop-shadow(0px 1px 2px rgba(0, 0, 0, 0.3));\n",
              "      fill: #FFFFFF;\n",
              "    }\n",
              "  </style>\n",
              "\n",
              "      <script>\n",
              "        const buttonEl =\n",
              "          document.querySelector('#df-4a77848b-7df4-45e4-b382-279d4f94ce5a button.colab-df-convert');\n",
              "        buttonEl.style.display =\n",
              "          google.colab.kernel.accessAllowed ? 'block' : 'none';\n",
              "\n",
              "        async function convertToInteractive(key) {\n",
              "          const element = document.querySelector('#df-4a77848b-7df4-45e4-b382-279d4f94ce5a');\n",
              "          const dataTable =\n",
              "            await google.colab.kernel.invokeFunction('convertToInteractive',\n",
              "                                                     [key], {});\n",
              "          if (!dataTable) return;\n",
              "\n",
              "          const docLinkHtml = 'Like what you see? Visit the ' +\n",
              "            '<a target=\"_blank\" href=https://colab.research.google.com/notebooks/data_table.ipynb>data table notebook</a>'\n",
              "            + ' to learn more about interactive tables.';\n",
              "          element.innerHTML = '';\n",
              "          dataTable['output_type'] = 'display_data';\n",
              "          await google.colab.output.renderOutput(dataTable, element);\n",
              "          const docLink = document.createElement('div');\n",
              "          docLink.innerHTML = docLinkHtml;\n",
              "          element.appendChild(docLink);\n",
              "        }\n",
              "      </script>\n",
              "    </div>\n",
              "  </div>\n",
              "  "
            ]
          },
          "metadata": {},
          "execution_count": 4
        }
      ]
    },
    {
      "cell_type": "code",
      "source": [
        "#In the given data, the label is the indication for whether the person has dislexia or not.\n",
        "#Label = 0 means that there is a high chance that the person has dislexia.\n",
        "#Label = 1 means that there is a moderte chance that the person has dislexia.\n",
        "#Label = 2 means that there is a low chance that the person has dislexia.\n",
        "#The Survey_Score is calculated on the basis of the answers to the quiz given by the applicant."
      ],
      "metadata": {
        "id": "6BUmbgwUt3sT"
      },
      "execution_count": 5,
      "outputs": []
    },
    {
      "cell_type": "code",
      "source": [
        "#Creating the test and train data sets for the given data.\n",
        "X_train,X_test,y_train,y_test=train_test_split(X,y,test_size=0.8,random_state=10)"
      ],
      "metadata": {
        "id": "52gQ2MPWt6oD"
      },
      "execution_count": 6,
      "outputs": []
    },
    {
      "cell_type": "code",
      "source": [
        "#StandardScalar is used for preprocessing of data.\n",
        "#'copy' is False, which means copies are avoid and inplace scaling is done instead.\n",
        "sc=StandardScaler(copy=False)\n",
        "sc.fit_transform(X_train)\n",
        "sc.transform(X_test)\n",
        "print(sc.transform(X_test)[3])"
      ],
      "metadata": {
        "colab": {
          "base_uri": "https://localhost:8080/"
        },
        "id": "Z61fR7b-t740",
        "outputId": "67d4da6e-b3f4-462a-d7a2-0a330abfcb31"
      },
      "execution_count": 7,
      "outputs": [
        {
          "output_type": "stream",
          "name": "stdout",
          "text": [
            "[-9.90170051 -8.2165588  -3.82517639 -4.24534156 -2.83972647 -0.14702108]\n"
          ]
        }
      ]
    },
    {
      "cell_type": "code",
      "source": [
        "#Creating a list of possible n_estimators.\n",
        "n_est = {'n_estimators' : [10,100,500,1000]}\n",
        "#Creating a RandomForest model using the value of n_estimators given by GridSearch for best result.\n",
        "model = GridSearchCV(RandomForestClassifier(random_state=0),n_est,scoring='f1_macro')\n",
        "#Training the model\n",
        "model.fit(X_train, y_train)\n",
        "#Making predictions using the model.\n",
        "predictions = model.predict(X_test)\n",
        "#Printing the value of n_estimator used in the model.\n",
        "#This value provides the most accurate predictions for our dataset.\n",
        "print('Best value of n_estimator for RandomForest model is:')\n",
        "print(model.best_params_)"
      ],
      "metadata": {
        "colab": {
          "base_uri": "https://localhost:8080/"
        },
        "id": "0zh0p54nt8lI",
        "outputId": "f44e1b57-22ab-493b-c4b2-88e83ab93fc1"
      },
      "execution_count": 8,
      "outputs": [
        {
          "output_type": "stream",
          "name": "stdout",
          "text": [
            "Best value of n_estimator for RandomForest model is:\n",
            "{'n_estimators': 100}\n"
          ]
        }
      ]
    },
    {
      "cell_type": "code",
      "source": [
        "#Giving user description of model\n",
        "print(\"Our model uses RandomForestClassifier with GridSearchCV to predict values from the given data.\")\n",
        "print(\"(Our model makes precitions with an error rate of 5.80%.)\\n\")"
      ],
      "metadata": {
        "id": "C-DS5pO8t_JV",
        "colab": {
          "base_uri": "https://localhost:8080/"
        },
        "outputId": "4787e070-9b4d-43cc-e311-bec0e9bda75e"
      },
      "execution_count": 9,
      "outputs": [
        {
          "output_type": "stream",
          "name": "stdout",
          "text": [
            "Our model uses RandomForestClassifier with GridSearchCV to predict values from the given data.\n",
            "(Our model makes precitions with an error rate of 5.80%.)\n",
            "\n"
          ]
        }
      ]
    },
    {
      "cell_type": "code",
      "source": [
        "#Getting input from user\n",
        "name = input(\"Enter name of appllicant: \")\n",
        "print(\"\\nThe scores of all the tests in quiz as well as survey need to be entered.\")\n",
        "print(\"All the values lie in the range 0 to 1.\\n\")\n",
        "lang_vocab = float(input(\"Enter the score of Language Vocab test: \"))\n",
        "memory = float(input(\"Enter the score of Memory test: \"))\n",
        "speed = float(input(\"Enter the score of Speed test: \"))\n",
        "visual = float(input(\"Enter the score of Visual Discrimination test: \"))\n",
        "audio = float(input(\"Enter the score of Audio Discrimination test: \"))\n",
        "survey = float(input(\"Enter the score obtained from Survey: \"))"
      ],
      "metadata": {
        "id": "L76xxt55uAu5",
        "colab": {
          "base_uri": "https://localhost:8080/"
        },
        "outputId": "0f77a661-db90-429b-d545-0d8510dfe168"
      },
      "execution_count": 10,
      "outputs": [
        {
          "name": "stdout",
          "output_type": "stream",
          "text": [
            "Enter name of appllicant: 0.26\n",
            "\n",
            "The scores of all the tests in quiz as well as survey need to be entered.\n",
            "All the values lie in the range 0 to 1.\n",
            "\n",
            "Enter the score of Language Vocab test: 0.1\n",
            "Enter the score of Memory test: 0.3\n",
            "Enter the score of Speed test: 0.4\n",
            "Enter the score of Visual Discrimination test: 0.1\n",
            "Enter the score of Audio Discrimination test: 0.1\n",
            "Enter the score obtained from Survey: 0.0\n"
          ]
        }
      ]
    },
    {
      "cell_type": "code",
      "source": [
        "#Creating a 2D array from the given scores.\n",
        "#Input taken by our model is a 2D array.\n",
        "#get_result function can be run to get result from the survey.\n",
        "def get_result(lang_vocab, memory, speed, visual, audio, survey):\n",
        "    #2D numpy array created with the values input by the user.\n",
        "    array = np.array([[lang_vocab, memory, speed, visual, audio, survey]])\n",
        "    #The output given by model is converted into an int and stored in label.\n",
        "    label = int(model.predict(array))\n",
        "    #Giving final output to user depending upon the model prediction.\n",
        "    if(label == 0):\n",
        "        output = \"There is a high chance of the applicant to have dyslexia.\"\n",
        "    elif(label == 1):\n",
        "        output = \"There is a moderate chance of the applicant to have dyslexia.\"\n",
        "    else:\n",
        "        output = \"There is a low chance of the applicant to have dyslexia.\"\n",
        "    return output"
      ],
      "metadata": {
        "id": "H5JFuY7SuB5T"
      },
      "execution_count": 11,
      "outputs": []
    },
    {
      "cell_type": "code",
      "source": [
        "get_result(lang_vocab, memory, speed, visual, audio, survey)\n",
        "# get_result(0.40516053, 0.25200256, 1, 0.32694813,  0.01971041,  0.54374235)\n",
        "\n"
      ],
      "metadata": {
        "id": "efINI5yeuCma",
        "colab": {
          "base_uri": "https://localhost:8080/",
          "height": 72
        },
        "outputId": "ab68ebb3-986a-4612-db97-0ada3c28e636"
      },
      "execution_count": 12,
      "outputs": [
        {
          "output_type": "stream",
          "name": "stderr",
          "text": [
            "/usr/local/lib/python3.8/dist-packages/sklearn/base.py:450: UserWarning: X does not have valid feature names, but RandomForestClassifier was fitted with feature names\n",
            "  warnings.warn(\n"
          ]
        },
        {
          "output_type": "execute_result",
          "data": {
            "text/plain": [
              "'There is a moderate chance of the applicant to have dyslexia.'"
            ],
            "application/vnd.google.colaboratory.intrinsic+json": {
              "type": "string"
            }
          },
          "metadata": {},
          "execution_count": 12
        }
      ]
    }
  ]
}